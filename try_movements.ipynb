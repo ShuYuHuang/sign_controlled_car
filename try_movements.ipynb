{
 "cells": [
  {
   "cell_type": "code",
   "execution_count": 1,
   "id": "a482996c-aaaa-4fee-b628-f5ebb39ecf69",
   "metadata": {},
   "outputs": [],
   "source": [
    "import RPi.GPIO as gpio\n",
    "import time"
   ]
  },
  {
   "cell_type": "code",
   "execution_count": 2,
   "id": "ec42bb2d-8714-48b3-ab4b-2411f3f03bdd",
   "metadata": {},
   "outputs": [],
   "source": [
    "class CarController():\n",
    "    def __init__(self,duty_cycle=30):\n",
    "        # 使用BCM模式，等會址定的接腳數字是根據GPIO輸出編號，而不是相對位置\n",
    "        # 編號對應詳見https://ithelp.ithome.com.tw/articles/10237152\n",
    "        gpio.setmode(gpio.BCM) \n",
    "        gpio.setwarnings(False) #把warning關掉，不然很吵\n",
    "                \n",
    "        # 指定a1,b1,a2,b2為global物件\n",
    "        global a1,b1,a2,b2\n",
    "        # 設定用到的接腳為output\n",
    "        gpio.setup(23,gpio.OUT) \n",
    "        gpio.setup(24,gpio.OUT)\n",
    "        gpio.setup(5,gpio.OUT)\n",
    "        gpio.setup(6,gpio.OUT)\n",
    "        \n",
    "        # 開啟一個電脈衝控制物件a1(我們用馬達控制晶片接腳名稱來命名)，控制接腳23、給定脈衝頻率30\n",
    "        # 後面會針對四個接腳訊號控制的物件做啟動，格式都一樣我就說明一個\n",
    "        a1 = gpio.PWM(23, 30)# 設定電脈衝控制物件接腳、脈衝頻率\n",
    "        \n",
    "        # 開啟一個電脈衝控制物件b1，控制接腳24、給定脈衝頻率30\n",
    "        b1 = gpio.PWM(24, 30)\n",
    "        \n",
    "        # 開啟一個電脈衝控制物件a2，控制接腳5、給定脈衝頻率30\n",
    "        a2 = gpio.PWM(5, 30)\n",
    "        \n",
    "        # 開啟一個電脈衝控制物件b2，控制接腳6、給定脈衝頻率30\n",
    "        b2 = gpio.PWM(6, 30)\n",
    "        \n",
    "        self.duty_cycle=duty_cycle # 紀錄參數給用，預設30\n",
    "        self.last_move=0\n",
    "    def __version__(self):\n",
    "        print('beta03')\n",
    "    # 以下為一些控制程式，可參考: https://wp.huangshiyang.com/pwm%E4%BD%BF%E7%94%A8-rpi-gpio-%E6%A8%A1%E5%9D%97%E7%9A%84%E8%84%89%E5%AE%BD%E8%B0%83%E5%88%B6\n",
    "    def forward(self):\n",
    "        if self.last_move!=0:\n",
    "            # 前進，兩個輪子輸出前進的脈衝波\n",
    "            a1.start(0)\n",
    "            b1.start(self.duty_cycle) # 數字從0~100 代表0~100% duty cycle，是有脈衝的時間佔週期的多少\n",
    "            a2.start(self.duty_cycle) # 同個號碼(1or2)的a跟b的給電要分開(一個前進一個後退)不能一起給\n",
    "            b2.start(0)  # 有脈衝就有給電，0就是完全不給電就不使用\n",
    "            time.sleep(0.1)\n",
    "            self.last_move=0\n",
    "    def backward(self):\n",
    "        if self.last_move!=1:\n",
    "            # 後退，兩個輪子輸出後退的脈衝波\n",
    "            a1.start(self.duty_cycle)\n",
    "            b1.start(0)\n",
    "            a2.start(0)\n",
    "            b2.start(self.duty_cycle)\n",
    "            time.sleep(0.1)\n",
    "            self.last_move=1\n",
    "    def left(self):\n",
    "        if self.last_move!=2:\n",
    "            # 左旋轉，右輪往前，左輪往後\n",
    "            a1.start(self.duty_cycle)\n",
    "            b1.start(0)\n",
    "            a2.start(self.duty_cycle)\n",
    "            b2.start(0)\n",
    "            time.sleep(0.1)\n",
    "            self.last_move=2\n",
    "    def right(self):\n",
    "        if self.last_move!=3:\n",
    "            # 左旋轉，右輪往前，左輪往後\n",
    "            a1.start(0)\n",
    "            b1.start(self.duty_cycle)\n",
    "            a2.start(0)\n",
    "            b2.start(self.duty_cycle)\n",
    "            time.sleep(0.1)\n",
    "            self.last_move=3\n",
    "\n",
    "    def still(self):\n",
    "        if self.last_move!=4:\n",
    "            # 暫停，輪子不動\n",
    "            a1.start(0)\n",
    "            b1.start(0)\n",
    "            a2.start(0)\n",
    "            b2.start(0)\n",
    "            time.sleep(0.1)\n",
    "            self.last_move=4\n",
    "    def close(self):\n",
    "        self.last_move=5\n",
    "        # 把所有控制元件停住\n",
    "        a1.stop()\n",
    "        b1.stop()\n",
    "        a2.stop()\n",
    "        b2.stop()\n",
    "        gpio.cleanup() # 把腳位全部設回input(接收而不發訊)"
   ]
  },
  {
   "cell_type": "code",
   "execution_count": 3,
   "id": "4f4c4449-6452-4c46-9863-b27e3799dbf1",
   "metadata": {},
   "outputs": [],
   "source": [
    "c = CarController()"
   ]
  },
  {
   "cell_type": "code",
   "execution_count": 6,
   "id": "2262ad96-6aae-47ee-aeea-c3862da2c2ea",
   "metadata": {},
   "outputs": [],
   "source": [
    "c.forward()"
   ]
  },
  {
   "cell_type": "code",
   "execution_count": 5,
   "id": "df4139e2-a2db-4e77-af3f-5a93fd9ce5dd",
   "metadata": {},
   "outputs": [],
   "source": [
    "c.backward()"
   ]
  },
  {
   "cell_type": "code",
   "execution_count": 9,
   "id": "c5658be7-8e93-4351-a185-c19164107dac",
   "metadata": {},
   "outputs": [],
   "source": [
    "c.left()"
   ]
  },
  {
   "cell_type": "code",
   "execution_count": 8,
   "id": "788c71e3-11a7-4423-b52f-da40f723d63a",
   "metadata": {},
   "outputs": [],
   "source": [
    "c.right()"
   ]
  },
  {
   "cell_type": "code",
   "execution_count": 7,
   "id": "3d9b67a1-abfb-4ff5-abba-cb34c14ad35f",
   "metadata": {},
   "outputs": [],
   "source": [
    "c.still()"
   ]
  },
  {
   "cell_type": "code",
   "execution_count": 12,
   "id": "00d1fb9b-5160-47c9-8c65-e0a480db1a7e",
   "metadata": {},
   "outputs": [],
   "source": [
    "c.close()"
   ]
  },
  {
   "cell_type": "code",
   "execution_count": null,
   "id": "05eb42bf-cd12-4de7-bebb-b6311e76ece8",
   "metadata": {},
   "outputs": [],
   "source": []
  }
 ],
 "metadata": {
  "kernelspec": {
   "display_name": "Python 3 (ipykernel)",
   "language": "python",
   "name": "python3"
  },
  "language_info": {
   "codemirror_mode": {
    "name": "ipython",
    "version": 3
   },
   "file_extension": ".py",
   "mimetype": "text/x-python",
   "name": "python",
   "nbconvert_exporter": "python",
   "pygments_lexer": "ipython3",
   "version": "3.7.3"
  }
 },
 "nbformat": 4,
 "nbformat_minor": 5
}
