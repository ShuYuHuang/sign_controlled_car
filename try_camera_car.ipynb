{
 "cells": [
  {
   "cell_type": "code",
   "execution_count": 2,
   "id": "c0175335-9596-4d74-88a9-40eebfc41abd",
   "metadata": {},
   "outputs": [
    {
     "data": {
      "text/plain": [
       "True"
      ]
     },
     "execution_count": 2,
     "metadata": {},
     "output_type": "execute_result"
    }
   ],
   "source": [
    "import numpy\n",
    "import cv2\n",
    "\n",
    "cap = cv2.VideoCapture(0)\n",
    "\n",
    "cap.set(cv2.CAP_PROP_FRAME_WIDTH, 640)\n",
    "cap.set(cv2.CAP_PROP_FRAME_HEIGHT, 480)"
   ]
  },
  {
   "cell_type": "code",
   "execution_count": 3,
   "id": "59b7512d-d703-46c2-a776-3c5f9b37285f",
   "metadata": {},
   "outputs": [
    {
     "data": {
      "text/plain": [
       "True"
      ]
     },
     "execution_count": 3,
     "metadata": {},
     "output_type": "execute_result"
    }
   ],
   "source": [
    "cap.isOpened()"
   ]
  },
  {
   "cell_type": "code",
   "execution_count": 4,
   "id": "4b3aa431-4ad7-4a07-ac10-f6909eff2418",
   "metadata": {},
   "outputs": [],
   "source": [
    "ret, img = cap.read()"
   ]
  },
  {
   "cell_type": "code",
   "execution_count": 5,
   "id": "ea1455dc-026f-41f3-8774-fb9e69792e3b",
   "metadata": {},
   "outputs": [
    {
     "data": {
      "text/plain": [
       "(480, 640, 3)"
      ]
     },
     "execution_count": 5,
     "metadata": {},
     "output_type": "execute_result"
    }
   ],
   "source": [
    "img.shape"
   ]
  },
  {
   "cell_type": "code",
   "execution_count": 4,
   "id": "ec4e67f4-2458-42ee-a180-2ac218592990",
   "metadata": {},
   "outputs": [],
   "source": [
    "cv2.imshow(\"A\",img)"
   ]
  },
  {
   "cell_type": "code",
   "execution_count": 5,
   "id": "bfa5f754-60c7-46aa-8f72-2d53d5565171",
   "metadata": {},
   "outputs": [
    {
     "data": {
      "text/plain": [
       "True"
      ]
     },
     "execution_count": 5,
     "metadata": {},
     "output_type": "execute_result"
    }
   ],
   "source": [
    "cv2.imwrite(\"result/a.jpg\",img)"
   ]
  },
  {
   "cell_type": "code",
   "execution_count": 14,
   "id": "8f4b35b7-3862-4b75-a70e-383bb857e465",
   "metadata": {},
   "outputs": [],
   "source": [
    "_image_to_show=cv2.rectangle(img,(20,30),(40,50),(255,0,0))\n",
    "cv2.imshow('Generic Inference', _image_to_show)"
   ]
  },
  {
   "cell_type": "code",
   "execution_count": 12,
   "id": "787bb010-1ca0-44e8-bd24-7e2078a27a69",
   "metadata": {},
   "outputs": [
    {
     "data": {
      "text/plain": [
       "(255, 0, 0)"
      ]
     },
     "execution_count": 12,
     "metadata": {},
     "output_type": "execute_result"
    }
   ],
   "source": [
    "(255,0,0)"
   ]
  },
  {
   "cell_type": "code",
   "execution_count": null,
   "id": "f92bcb1a-4ea3-444b-a0f8-834723f09c1d",
   "metadata": {},
   "outputs": [],
   "source": [
    "try:\n",
    "    pass\n",
    "except KeyboardInterrupt:"
   ]
  },
  {
   "cell_type": "code",
   "execution_count": 1,
   "id": "e89e8a53-1335-4802-af3d-c8dadca8d68b",
   "metadata": {},
   "outputs": [],
   "source": [
    "import time\n"
   ]
  },
  {
   "cell_type": "code",
   "execution_count": 2,
   "id": "188b42de-f5d6-4fab-b9a9-03d978b41ebd",
   "metadata": {},
   "outputs": [
    {
     "data": {
      "text/plain": [
       "<function time.time>"
      ]
     },
     "execution_count": 2,
     "metadata": {},
     "output_type": "execute_result"
    }
   ],
   "source": [
    "time.time()"
   ]
  },
  {
   "cell_type": "code",
   "execution_count": 1,
   "id": "8019c12c-5a12-47a5-b04a-8e7936f182fc",
   "metadata": {},
   "outputs": [],
   "source": [
    "import threading"
   ]
  },
  {
   "cell_type": "code",
   "execution_count": null,
   "id": "437f3ceb-e7e9-419f-90db-64328bcc5917",
   "metadata": {},
   "outputs": [],
   "source": [
    "threading.Thread()"
   ]
  },
  {
   "cell_type": "code",
   "execution_count": 2,
   "id": "4219afb1-bac1-4de1-8707-fbdc466e4d8a",
   "metadata": {},
   "outputs": [],
   "source": [
    "import cv2\n",
    "import numpy as np"
   ]
  },
  {
   "cell_type": "code",
   "execution_count": null,
   "id": "f5f17980-b571-4c73-b753-4547d40b8f53",
   "metadata": {},
   "outputs": [],
   "source": [
    "img=np.random.randint(0,255,(224,224),dtype=np.uint8)\n",
    "\n",
    "# cv2.namedWindow('Cam', cv2.WND_PROP_ASPECT_RATIO or cv2.WINDOW_GUI_EXPANDED)\n",
    "# cv2.setWindowProperty('Cam', cv2.WND_PROP_ASPECT_RATIO, cv2.WND_PROP_ASPECT_RATIO)\n",
    "# 按下任意鍵則關閉所有視窗\n",
    "\n",
    "cv2.imshow('Cam',img)\n",
    "cv2.waitKey(0)\n",
    "cv2.destroyAllWindows()"
   ]
  },
  {
   "cell_type": "code",
   "execution_count": null,
   "id": "d6946055-0f59-4670-afdf-61b0c45b634a",
   "metadata": {},
   "outputs": [],
   "source": []
  }
 ],
 "metadata": {
  "kernelspec": {
   "display_name": "Python 3 (ipykernel)",
   "language": "python",
   "name": "python3"
  },
  "language_info": {
   "codemirror_mode": {
    "name": "ipython",
    "version": 3
   },
   "file_extension": ".py",
   "mimetype": "text/x-python",
   "name": "python",
   "nbconvert_exporter": "python",
   "pygments_lexer": "ipython3",
   "version": "3.7.3"
  }
 },
 "nbformat": 4,
 "nbformat_minor": 5
}
